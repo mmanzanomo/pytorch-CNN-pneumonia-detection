{
 "cells": [
  {
   "cell_type": "markdown",
   "id": "cad5ed1d",
   "metadata": {},
   "source": [
    "# Classifying types of pneumonia"
   ]
  },
  {
   "cell_type": "markdown",
   "id": "cdfeb6f4",
   "metadata": {},
   "source": [
    "In the original dataset, two types of pneumonia can be observed, identified by the labels in the names. They will be separated into different folders."
   ]
  },
  {
   "cell_type": "code",
   "execution_count": 1,
   "id": "f4e604b4",
   "metadata": {},
   "outputs": [],
   "source": [
    "import os\n",
    "from pathlib import Path\n",
    "import shutil"
   ]
  },
  {
   "cell_type": "code",
   "execution_count": 2,
   "id": "f6ef27bb",
   "metadata": {},
   "outputs": [],
   "source": [
    "def organizeFiles(main_dir):\n",
    "    for subset in ['train', 'test']:\n",
    "        pneumonia_folder = os.path.join(main_dir, subset, 'PNEUMONIA')\n",
    "        virus_folder = os.path.join(main_dir, subset, 'PNEUMONIA_VIRUS')\n",
    "        bacteria_folder = os.path.join(main_dir, subset, 'PNEUMONIA_BACTERIA')\n",
    "\n",
    "        # Create 'PNEUMONIA_VIRUS' folder if not exists\n",
    "        if not os.path.exists(virus_folder):\n",
    "            os.makedirs(virus_folder)\n",
    "\n",
    "        # Moving files to new folder\n",
    "        virus_files = list(Path(pneumonia_folder).glob('VIRUS*.jpeg'))\n",
    "        for sample in virus_files:\n",
    "            shutil.move(sample, os.path.join(virus_folder, sample.name))\n",
    "\n",
    "        # Rename 'PNEUMONIA' to 'PNEUMONIA_BACTERIA'\n",
    "        os.rename(pneumonia_folder, bacteria_folder)\n"
   ]
  },
  {
   "cell_type": "code",
   "execution_count": 3,
   "id": "aca96487",
   "metadata": {},
   "outputs": [],
   "source": [
    "main_directory = '../../kaggle/pneumoniaDataset/chest_xray'  \n",
    "\n",
    "organizeFiles(main_directory)"
   ]
  }
 ],
 "metadata": {
  "kernelspec": {
   "display_name": "Python 3 (ipykernel)",
   "language": "python",
   "name": "python3"
  },
  "language_info": {
   "codemirror_mode": {
    "name": "ipython",
    "version": 3
   },
   "file_extension": ".py",
   "mimetype": "text/x-python",
   "name": "python",
   "nbconvert_exporter": "python",
   "pygments_lexer": "ipython3",
   "version": "3.11.0"
  }
 },
 "nbformat": 4,
 "nbformat_minor": 5
}

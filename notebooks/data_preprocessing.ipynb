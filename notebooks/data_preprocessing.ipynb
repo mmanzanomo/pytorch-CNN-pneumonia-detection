{
 "cells": [
  {
   "cell_type": "markdown",
   "id": "867bebc4",
   "metadata": {},
   "source": [
    "# Data preprocessing"
   ]
  },
  {
   "cell_type": "markdown",
   "id": "83b2ac4f",
   "metadata": {},
   "source": [
    "## Distribution of the dataset"
   ]
  },
  {
   "cell_type": "markdown",
   "id": "6f062afa",
   "metadata": {},
   "source": [
    "After exploring the dataset and identifying the issues related to the problem at hand, we proceed to adjust it before moving forward with the classification model application.\n",
    "\n",
    "The dataset provides the necessary information to consider a classification into three different categories.\n",
    "\n",
    "\n",
    "- Patients without any pathology.\n",
    "- Patients with bacterial pneumonia.\n",
    "- Patients with viral pneumonia.\n",
    "\n",
    "The original data set organizes the observations into two folders, differentiating between patients with or without pneumonia. To make the most of the information in the data set, the “pneumonia” set was split into “bacterial pneumonia” and “viral pneumonia,” and the observations were moved accordingly to finally have the expected three classes."
   ]
  },
  {
   "cell_type": "code",
   "execution_count": 1,
   "id": "45f47b67",
   "metadata": {},
   "outputs": [],
   "source": [
    "import os\n",
    "from sklearn.model_selection import train_test_split\n",
    "import skimage.io as skio\n",
    "import numpy as np\n",
    "import matplotlib.pyplot as plt\n"
   ]
  },
  {
   "cell_type": "code",
   "execution_count": 2,
   "id": "8ef07c6c",
   "metadata": {},
   "outputs": [],
   "source": [
    "path_dir = \"../../kaggle/pneumoniaDataset/chest_xray\"\n",
    "train_data_dir = os.path.join( path_dir, \"train\" )\n",
    "test_data_dir = os.path.join( path_dir, \"test\" )"
   ]
  },
  {
   "cell_type": "code",
   "execution_count": 3,
   "id": "5028a248",
   "metadata": {},
   "outputs": [],
   "source": [
    "def load_chest_xray_data( data_directory ):\n",
    "    dirs = [ d for d in os.listdir( data_directory ) \n",
    "            if os.path.isdir( os.path.join( data_directory, d ) ) ]\n",
    "    print( dirs )\n",
    "\n",
    "    labels = []\n",
    "    images = []\n",
    "    for d in dirs:\n",
    "        label_dir = os.path.join( data_directory, d )\n",
    "        file_names = [ os.path.join( label_dir, f ) \n",
    "                        for f in os.listdir( label_dir )\n",
    "                        if f.endswith(\".jpeg\") ]\n",
    "        \n",
    "        print(\"Label dir --> \" + label_dir )\n",
    "\n",
    "        for f in file_names:\n",
    "            images.append( skio.imread(f) )\n",
    "            labels.append( str(d) )\n",
    "    \n",
    "    return images, labels"
   ]
  },
  {
   "cell_type": "code",
   "execution_count": 4,
   "id": "de372335",
   "metadata": {},
   "outputs": [
    {
     "name": "stdout",
     "output_type": "stream",
     "text": [
      "['NORMAL', 'PNEUMONIA_VIRUS', 'PNEUMONIA_BACTERIA']\n",
      "Label dir --> ../../kaggle/pneumoniaDataset/chest_xray/train/NORMAL\n",
      "Label dir --> ../../kaggle/pneumoniaDataset/chest_xray/train/PNEUMONIA_VIRUS\n",
      "Label dir --> ../../kaggle/pneumoniaDataset/chest_xray/train/PNEUMONIA_BACTERIA\n",
      "['NORMAL', 'PNEUMONIA_VIRUS', 'PNEUMONIA_BACTERIA']\n",
      "Label dir --> ../../kaggle/pneumoniaDataset/chest_xray/test/NORMAL\n",
      "Label dir --> ../../kaggle/pneumoniaDataset/chest_xray/test/PNEUMONIA_VIRUS\n",
      "Label dir --> ../../kaggle/pneumoniaDataset/chest_xray/test/PNEUMONIA_BACTERIA\n"
     ]
    }
   ],
   "source": [
    "images, labels = load_chest_xray_data( train_data_dir )\n",
    "images_test, labels_test = load_chest_xray_data( test_data_dir )"
   ]
  },
  {
   "cell_type": "code",
   "execution_count": 5,
   "id": "9d3c0375",
   "metadata": {},
   "outputs": [
    {
     "name": "stdout",
     "output_type": "stream",
     "text": [
      "NUMBER OF IMAGES:\n",
      " - normal: 1349\n",
      " - bacteria: 2538\n",
      " - virus: 1345\n",
      " total: 5232\n",
      "NUMBER OF IMAGES:\n",
      " - normal: 234\n",
      " - bacteria: 242\n",
      " - virus: 148\n",
      " total: 624\n"
     ]
    }
   ],
   "source": [
    "def count_labels(labels):\n",
    "    normal = 0\n",
    "    bacteria = 0\n",
    "    virus = 0\n",
    "    total = 0\n",
    "\n",
    "    for label in labels:\n",
    "        if label == 'NORMAL':\n",
    "            normal += 1\n",
    "        elif label == 'PNEUMONIA_BACTERIA':\n",
    "            bacteria += 1\n",
    "        elif label == 'PNEUMONIA_VIRUS':\n",
    "            virus += 1\n",
    "        total += 1\n",
    "\n",
    "    return normal, bacteria, virus, total\n",
    "\n",
    "def print_labels_result(title, normal, bacteria, virus, total):\n",
    "    print(f\"NUMBER OF IMAGES:\")\n",
    "    print(f\" - normal: {normal}\")\n",
    "    print(f\" - bacteria: {bacteria}\")\n",
    "    print(f\" - virus: {virus}\")\n",
    "    print(f\" total: {total}\")\n",
    "\n",
    "# With training data\n",
    "normal_train, bacteria_train, virus_train, total_train = count_labels(labels)\n",
    "print_labels_result(\"TRAINING\", normal_train, bacteria_train, virus_train, total_train)\n",
    "\n",
    "# With testing data\n",
    "normal_test, bacteria_test, virus_test, total_test = count_labels(labels_test)\n",
    "print_labels_result(\"TESTING\", normal_test, bacteria_test, virus_test, total_test)\n"
   ]
  },
  {
   "cell_type": "code",
   "execution_count": 7,
   "id": "a14968cf",
   "metadata": {},
   "outputs": [],
   "source": [
    "# To convert to a NumPy array\n",
    "# Training test\n",
    "np_images = np.array(images, dtype=object)\n",
    "np_labels = np.array(labels, dtype=object)\n",
    "# Testing set\n",
    "np_images_test = np.array(images_test, dtype=object)\n",
    "np_labels_test = np.array(labels_test, dtype=object)"
   ]
  },
  {
   "cell_type": "code",
   "execution_count": 11,
   "id": "529bee6f",
   "metadata": {},
   "outputs": [
    {
     "data": {
      "image/png": "[encoded data removed]",
      "text/plain": [
       "<Figure size 640x480 with 1 Axes>"
      ]
     },
     "metadata": {},
     "output_type": "display_data"
    }
   ],
   "source": [
    "plt.hist(np_labels, len(set(np_labels)))\n",
    "plt.show()"
   ]
  },
  {
   "cell_type": "markdown",
   "id": "dfb63f59",
   "metadata": {},
   "source": [
    "The division of observations into three classes does not solve the previous imbalance between 'normal' and 'pneumonia', and now shows a clear imbalance towards 'bacterial pneumonia', where approximately twice as many samples are observed as the rest of the possible classifications.\n",
    "\n",
    "This imbalance can cause the training model to not learn all the features necessary to correctly differentiate between minority classes and resolve some samples to the majority class type due to a higher probability of correct predictions.\n",
    "\n",
    "At this point we can choose three different paths:\n",
    "- Complement the classes of the minority groups with another existing group. In many areas, as is the case with Health, it is possible that you are making use of all known data and no other complementary datasets are available.\n",
    "\n",
    "- Extract observations from the dominant class. While extracting observations helps balance the classes, it could also be counterproductive, as it may result in missing observations with characteristics that could be representative and crucial for the model's representation.\n",
    "\n",
    "- Balancing the dataset using known data and applying synthetic changes, such as data augmentation. This technique is known as Oversampling."
   ]
  },
  {
   "cell_type": "markdown",
   "id": "e99d8ecf",
   "metadata": {},
   "source": [
    "To balance the data before starting to work on the models, the number of observations in the minority sets will be doubled and data augmentation will be used to apply random changes to the samples. This will synthetically generate new observations, thus leveling the observations in all classes present in the data set."
   ]
  }
 ],
 "metadata": {
  "kernelspec": {
   "display_name": "Python 3 (ipykernel)",
   "language": "python",
   "name": "python3"
  },
  "language_info": {
   "codemirror_mode": {
    "name": "ipython",
    "version": 3
   },
   "file_extension": ".py",
   "mimetype": "text/x-python",
   "name": "python",
   "nbconvert_exporter": "python",
   "pygments_lexer": "ipython3",
   "version": "3.11.0"
  }
 },
 "nbformat": 4,
 "nbformat_minor": 5
}
